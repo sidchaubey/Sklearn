{
  "nbformat": 4,
  "nbformat_minor": 0,
  "metadata": {
    "colab": {
      "name": "TemplateToGetNANColumns.ipynb",
      "provenance": [],
      "authorship_tag": "ABX9TyMKPTmCxlr0lQnSsVKf5VZJ",
      "include_colab_link": true
    },
    "kernelspec": {
      "name": "python3",
      "display_name": "Python 3"
    },
    "language_info": {
      "name": "python"
    }
  },
  "cells": [
    {
      "cell_type": "markdown",
      "metadata": {
        "id": "view-in-github",
        "colab_type": "text"
      },
      "source": [
        "<a href=\"https://colab.research.google.com/github/sidchaubey/Sklearn/blob/main/TemplateToGetNANColumns.ipynb\" target=\"_parent\"><img src=\"https://colab.research.google.com/assets/colab-badge.svg\" alt=\"Open In Colab\"/></a>"
      ]
    },
    {
      "cell_type": "code",
      "metadata": {
        "id": "qkk-HO5w1XNs"
      },
      "source": [
        "class NAN_Columns_lst:\n",
        "  \"\"\"\"Please import pandas as pd\"\"\"\n",
        "  import pandas as pd\n",
        "  import numpy as np\n",
        "  def __init__(self, dataset):\n",
        "      self.dataset = dataset\n",
        "  \n",
        "  def get_nan_columns(self):\n",
        "      column_names = pd.DataFrame(self.dataset.isna().sum()).index\n",
        "      column_values = pd.DataFrame(self.dataset.isna().sum()).values\n",
        "      \n",
        "      nan_columns_lst = []\n",
        "\n",
        "      for i in zip(column_names, column_values):\n",
        "          a, b = i\n",
        "          if b.ravel()!=0:\n",
        "              nan_columns_lst.append(a)\n",
        "      return nan_columns_lst"
      ],
      "execution_count": 3,
      "outputs": []
    },
    {
      "cell_type": "code",
      "metadata": {
        "id": "m9jSKJqg1yVG"
      },
      "source": [
        ""
      ],
      "execution_count": null,
      "outputs": []
    }
  ]
}