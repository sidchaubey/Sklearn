{
  "nbformat": 4,
  "nbformat_minor": 0,
  "metadata": {
    "colab": {
      "name": "BuildingSimpleLinearRegressionFRomScratch.ipynb",
      "provenance": [],
      "authorship_tag": "ABX9TyM8uaeWEq3lKddMblJ1SKLA",
      "include_colab_link": true
    },
    "kernelspec": {
      "name": "python3",
      "display_name": "Python 3"
    },
    "language_info": {
      "name": "python"
    }
  },
  "cells": [
    {
      "cell_type": "markdown",
      "metadata": {
        "id": "view-in-github",
        "colab_type": "text"
      },
      "source": [
        "<a href=\"https://colab.research.google.com/github/sidchaubey/Sklearn/blob/main/BuildingSimpleLinearRegressionFRomScratch.ipynb\" target=\"_parent\"><img src=\"https://colab.research.google.com/assets/colab-badge.svg\" alt=\"Open In Colab\"/></a>"
      ]
    },
    {
      "cell_type": "code",
      "metadata": {
        "id": "aLmw71N-Pk88"
      },
      "source": [
        "import numpy as np\n",
        "import pandas as pd\n",
        "from sklearn import model_selection\n",
        "from sklearn import datasets\n",
        "import matplotlib.pyplot as plt\n"
      ],
      "execution_count": 127,
      "outputs": []
    },
    {
      "cell_type": "code",
      "metadata": {
        "id": "_IdZnEcwQ9h1"
      },
      "source": [
        "X = pd.DataFrame(data= np.linspace(-5,5,100), columns=[\"x\"])\n",
        "X = X.iloc[:, 0]"
      ],
      "execution_count": 128,
      "outputs": []
    },
    {
      "cell_type": "code",
      "metadata": {
        "id": "3izWWND7P6jd"
      },
      "source": [
        "Y = pd.DataFrame(data= np.linspace(-10,-1,100), columns=[\"y\"])\n",
        "Y = Y.iloc[:, 0]"
      ],
      "execution_count": 129,
      "outputs": []
    },
    {
      "cell_type": "code",
      "metadata": {
        "colab": {
          "base_uri": "https://localhost:8080/",
          "height": 87
        },
        "id": "yCdwa4YsQe_K",
        "outputId": "2bf908ad-b534-42fa-cced-f9df02208de2"
      },
      "source": [
        "X_train, X_test, Y_train, Y_test = model_selection.train_test_split(X, Y, random_state=0)\n",
        "display(X_train.shape, Y_train.shape, X_test.shape, Y_test.shape)"
      ],
      "execution_count": 130,
      "outputs": [
        {
          "output_type": "display_data",
          "data": {
            "text/plain": [
              "(75,)"
            ]
          },
          "metadata": {
            "tags": []
          }
        },
        {
          "output_type": "display_data",
          "data": {
            "text/plain": [
              "(75,)"
            ]
          },
          "metadata": {
            "tags": []
          }
        },
        {
          "output_type": "display_data",
          "data": {
            "text/plain": [
              "(25,)"
            ]
          },
          "metadata": {
            "tags": []
          }
        },
        {
          "output_type": "display_data",
          "data": {
            "text/plain": [
              "(25,)"
            ]
          },
          "metadata": {
            "tags": []
          }
        }
      ]
    },
    {
      "cell_type": "code",
      "metadata": {
        "id": "cvSNRfllSLuy"
      },
      "source": [
        "# fit function to get values of m&c\n",
        "# predict function to predict values\n",
        "# score function\n",
        "# cost"
      ],
      "execution_count": 131,
      "outputs": []
    },
    {
      "cell_type": "code",
      "metadata": {
        "id": "lzsEKV86R1z9"
      },
      "source": [
        "def fit(X_train, Y_train):\n",
        "  num = ((X_train*Y_train).mean()-((X_train).mean()*(Y_train).mean()))\n",
        "  den = (X_train**2).mean()-X_train.mean()*X_train.mean()\n",
        "  m = num/den\n",
        "  c = Y_train.mean() - m*X_train.mean()\n",
        "  return m, c"
      ],
      "execution_count": 132,
      "outputs": []
    },
    {
      "cell_type": "code",
      "metadata": {
        "id": "aR5nx0v_S_-y"
      },
      "source": [
        "m, c = fit(X_train, Y_train)"
      ],
      "execution_count": 133,
      "outputs": []
    },
    {
      "cell_type": "code",
      "metadata": {
        "id": "BVmWEJMyTEmq"
      },
      "source": [
        "def predict(X_test, m, c):\n",
        "  return m*X_test+c"
      ],
      "execution_count": 134,
      "outputs": []
    },
    {
      "cell_type": "code",
      "metadata": {
        "id": "uqvBJWVIWODK"
      },
      "source": [
        "Y_pred = predict(X_test, m,c)"
      ],
      "execution_count": 135,
      "outputs": []
    },
    {
      "cell_type": "code",
      "metadata": {
        "colab": {
          "base_uri": "https://localhost:8080/"
        },
        "id": "YFjuPRE1WOwK",
        "outputId": "da4b4b1c-7673-4201-9503-b20053d7fd2e"
      },
      "source": [
        "Y_pred.head()"
      ],
      "execution_count": 136,
      "outputs": [
        {
          "output_type": "execute_result",
          "data": {
            "text/plain": [
              "26   -7.636364\n",
              "86   -2.181818\n",
              "2    -9.818182\n",
              "55   -5.000000\n",
              "75   -3.181818\n",
              "Name: x, dtype: float64"
            ]
          },
          "metadata": {
            "tags": []
          },
          "execution_count": 136
        }
      ]
    },
    {
      "cell_type": "code",
      "metadata": {
        "id": "OGDz3q2cYpkq"
      },
      "source": [
        "def score(Y_test, Y_pred):\n",
        "  u = ((Y_test-Y_pred)**2).sum()\n",
        "  v = ((Y_test-Y_test.mean())**2).sum()\n",
        "  score_ = (1-(u/v))\n",
        "  return score_"
      ],
      "execution_count": 137,
      "outputs": []
    },
    {
      "cell_type": "code",
      "metadata": {
        "colab": {
          "base_uri": "https://localhost:8080/"
        },
        "id": "OQQ1hLGtYxYY",
        "outputId": "76219120-fba0-46ca-8b9b-60d467d035ef"
      },
      "source": [
        "score(Y_test, Y_pred)"
      ],
      "execution_count": 138,
      "outputs": [
        {
          "output_type": "execute_result",
          "data": {
            "text/plain": [
              "1.0"
            ]
          },
          "metadata": {
            "tags": []
          },
          "execution_count": 138
        }
      ]
    },
    {
      "cell_type": "code",
      "metadata": {
        "id": "pVlBx8oha_hB"
      },
      "source": [
        "def cost(X, Y, m, c):\n",
        "  return ((Y-m*X-c)**2).sum()\n"
      ],
      "execution_count": 139,
      "outputs": []
    },
    {
      "cell_type": "code",
      "metadata": {
        "colab": {
          "base_uri": "https://localhost:8080/"
        },
        "id": "VK8UzkOXbWOU",
        "outputId": "e92907df-31a5-4a55-aca2-17dbf2b1226c"
      },
      "source": [
        "cost(X, Y, m, c)"
      ],
      "execution_count": 140,
      "outputs": [
        {
          "output_type": "execute_result",
          "data": {
            "text/plain": [
              "1.9248206087392688e-28"
            ]
          },
          "metadata": {
            "tags": []
          },
          "execution_count": 140
        }
      ]
    },
    {
      "cell_type": "code",
      "metadata": {
        "colab": {
          "base_uri": "https://localhost:8080/",
          "height": 265
        },
        "id": "IJPhNrBfbZrA",
        "outputId": "564a85c3-9886-4000-f72c-275237fe301d"
      },
      "source": [
        "x_line = np.arange(-10,5, 0.001)\n",
        "y_line = m*x_line+c\n",
        "plt.plot(x_line, y_line)\n",
        "plt.scatter(X_test, Y_test)\n",
        "plt.show()"
      ],
      "execution_count": 141,
      "outputs": [
        {
          "output_type": "display_data",
          "data": {
            "image/png": "[encoded data removed]",
            "text/plain": [
              "<Figure size 432x288 with 1 Axes>"
            ]
          },
          "metadata": {
            "tags": [],
            "needs_background": "light"
          }
        }
      ]
    },
    {
      "cell_type": "markdown",
      "metadata": {
        "id": "h_YW7IJQfd06"
      },
      "source": [
        "# Conclusion:\n",
        "Since X and Y have linear relation the performance of linear regression is great(score=1.0)"
      ]
    },
    {
      "cell_type": "code",
      "metadata": {
        "colab": {
          "base_uri": "https://localhost:8080/"
        },
        "id": "_H5X_3JJeV9X",
        "outputId": "1e305785-4416-43f9-aee5-d76dfe8e9eaf"
      },
      "source": [
        "X.head(), Y.head()"
      ],
      "execution_count": 142,
      "outputs": [
        {
          "output_type": "execute_result",
          "data": {
            "text/plain": [
              "(0   -5.00000\n",
              " 1   -4.89899\n",
              " 2   -4.79798\n",
              " 3   -4.69697\n",
              " 4   -4.59596\n",
              " Name: x, dtype: float64, 0   -10.000000\n",
              " 1    -9.909091\n",
              " 2    -9.818182\n",
              " 3    -9.727273\n",
              " 4    -9.636364\n",
              " Name: y, dtype: float64)"
            ]
          },
          "metadata": {
            "tags": []
          },
          "execution_count": 142
        }
      ]
    },
    {
      "cell_type": "code",
      "metadata": {
        "colab": {
          "base_uri": "https://localhost:8080/"
        },
        "id": "sPB5aG02evLy",
        "outputId": "0791d669-827c-4f60-fc75-4b0e79c26459"
      },
      "source": [
        "x_new_value = -5.0-(5.0-4.89899)\n",
        "test_predict = predict(x_new_value, m, c)\n",
        "test_predict"
      ],
      "execution_count": 143,
      "outputs": [
        {
          "output_type": "execute_result",
          "data": {
            "text/plain": [
              "-10.090909000000002"
            ]
          },
          "metadata": {
            "tags": []
          },
          "execution_count": 143
        }
      ]
    },
    {
      "cell_type": "code",
      "metadata": {
        "colab": {
          "base_uri": "https://localhost:8080/"
        },
        "id": "yIeTSHRgfSy8",
        "outputId": "a92d6e58-7c63-45f7-e17b-14f3ba336669"
      },
      "source": [
        "test_actual = -10.0 -(10-9.909091)\n",
        "test_actual"
      ],
      "execution_count": 144,
      "outputs": [
        {
          "output_type": "execute_result",
          "data": {
            "text/plain": [
              "-10.090909"
            ]
          },
          "metadata": {
            "tags": []
          },
          "execution_count": 144
        }
      ]
    },
    {
      "cell_type": "markdown",
      "metadata": {
        "id": "ozuUSFuVhKeX"
      },
      "source": [
        "* The above Computation shows that the value when x = -5.10101 the corresponding value of y should be -10.090909 the algorithm is predicting that exactly "
      ]
    },
    {
      "cell_type": "code",
      "metadata": {
        "id": "YxZG8G6bfT4V"
      },
      "source": [
        ""
      ],
      "execution_count": 144,
      "outputs": []
    }
  ]
}